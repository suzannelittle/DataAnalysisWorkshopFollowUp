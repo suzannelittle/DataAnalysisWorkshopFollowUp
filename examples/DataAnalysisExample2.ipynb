{
 "metadata": {
  "name": "",
  "signature": "sha256:a5863acde1642d6325720091ab224b1344ba073fa14d689c69264915f36c3072"
 },
 "nbformat": 3,
 "nbformat_minor": 0,
 "worksheets": [
  {
   "cells": [
    {
     "cell_type": "markdown",
     "metadata": {},
     "source": [
      "This example uses data from the passenger records on the Titanic taken from http://biostat.mc.vanderbilt.edu/wiki/pub/Main/DataSets/titanic.html. It uses [v3](http://biostat.mc.vanderbilt.edu/wiki/pub/Main/DataSets/Ctitanic3.html) which has been tidied but contains a range of variables to explore."
     ]
    },
    {
     "cell_type": "code",
     "collapsed": false,
     "input": [
      "import pandas as pd\n",
      "import numpy as np"
     ],
     "language": "python",
     "metadata": {},
     "outputs": [],
     "prompt_number": 1
    },
    {
     "cell_type": "code",
     "collapsed": false,
     "input": [
      "titanic = pd.read_csv('/home/slittle/data/text/titanic3.csv', header=0)"
     ],
     "language": "python",
     "metadata": {},
     "outputs": [],
     "prompt_number": 2
    },
    {
     "cell_type": "code",
     "collapsed": false,
     "input": [
      "titanic.info()"
     ],
     "language": "python",
     "metadata": {},
     "outputs": [
      {
       "output_type": "stream",
       "stream": "stdout",
       "text": [
        "<class 'pandas.core.frame.DataFrame'>\n",
        "Int64Index: 1309 entries, 0 to 1308\n",
        "Data columns (total 14 columns):\n",
        "pclass       1309 non-null int64\n",
        "survived     1309 non-null int64\n",
        "name         1309 non-null object\n",
        "sex          1309 non-null object\n",
        "age          1046 non-null float64\n",
        "sibsp        1309 non-null int64\n",
        "parch        1309 non-null int64\n",
        "ticket       1309 non-null object\n",
        "fare         1308 non-null float64\n",
        "cabin        295 non-null object\n",
        "embarked     1307 non-null object\n",
        "boat         486 non-null object\n",
        "body         121 non-null float64\n",
        "home.dest    745 non-null object\n",
        "dtypes: float64(3), int64(4), object(7)"
       ]
      }
     ],
     "prompt_number": 3
    },
    {
     "cell_type": "code",
     "collapsed": false,
     "input": [
      "titanic.head()"
     ],
     "language": "python",
     "metadata": {},
     "outputs": [
      {
       "html": [
        "<div style=\"max-height:1000px;max-width:1500px;overflow:auto;\">\n",
        "<table border=\"1\" class=\"dataframe\">\n",
        "  <thead>\n",
        "    <tr style=\"text-align: right;\">\n",
        "      <th></th>\n",
        "      <th>pclass</th>\n",
        "      <th>survived</th>\n",
        "      <th>name</th>\n",
        "      <th>sex</th>\n",
        "      <th>age</th>\n",
        "      <th>sibsp</th>\n",
        "      <th>parch</th>\n",
        "      <th>ticket</th>\n",
        "      <th>fare</th>\n",
        "      <th>cabin</th>\n",
        "      <th>embarked</th>\n",
        "      <th>boat</th>\n",
        "      <th>body</th>\n",
        "      <th>home.dest</th>\n",
        "    </tr>\n",
        "  </thead>\n",
        "  <tbody>\n",
        "    <tr>\n",
        "      <th>0</th>\n",
        "      <td> 1</td>\n",
        "      <td> 1</td>\n",
        "      <td>                   Allen, Miss. Elisabeth Walton</td>\n",
        "      <td> female</td>\n",
        "      <td> 29.00</td>\n",
        "      <td> 0</td>\n",
        "      <td> 0</td>\n",
        "      <td>  24160</td>\n",
        "      <td> 211.3375</td>\n",
        "      <td>      B5</td>\n",
        "      <td> S</td>\n",
        "      <td>   2</td>\n",
        "      <td> NaN</td>\n",
        "      <td>                    St Louis, MO</td>\n",
        "    </tr>\n",
        "    <tr>\n",
        "      <th>1</th>\n",
        "      <td> 1</td>\n",
        "      <td> 1</td>\n",
        "      <td>                  Allison, Master. Hudson Trevor</td>\n",
        "      <td>   male</td>\n",
        "      <td>  0.92</td>\n",
        "      <td> 1</td>\n",
        "      <td> 2</td>\n",
        "      <td> 113781</td>\n",
        "      <td> 151.5500</td>\n",
        "      <td> C22 C26</td>\n",
        "      <td> S</td>\n",
        "      <td>  11</td>\n",
        "      <td> NaN</td>\n",
        "      <td> Montreal, PQ / Chesterville, ON</td>\n",
        "    </tr>\n",
        "    <tr>\n",
        "      <th>2</th>\n",
        "      <td> 1</td>\n",
        "      <td> 0</td>\n",
        "      <td>                    Allison, Miss. Helen Loraine</td>\n",
        "      <td> female</td>\n",
        "      <td>  2.00</td>\n",
        "      <td> 1</td>\n",
        "      <td> 2</td>\n",
        "      <td> 113781</td>\n",
        "      <td> 151.5500</td>\n",
        "      <td> C22 C26</td>\n",
        "      <td> S</td>\n",
        "      <td> NaN</td>\n",
        "      <td> NaN</td>\n",
        "      <td> Montreal, PQ / Chesterville, ON</td>\n",
        "    </tr>\n",
        "    <tr>\n",
        "      <th>3</th>\n",
        "      <td> 1</td>\n",
        "      <td> 0</td>\n",
        "      <td>            Allison, Mr. Hudson Joshua Creighton</td>\n",
        "      <td>   male</td>\n",
        "      <td> 30.00</td>\n",
        "      <td> 1</td>\n",
        "      <td> 2</td>\n",
        "      <td> 113781</td>\n",
        "      <td> 151.5500</td>\n",
        "      <td> C22 C26</td>\n",
        "      <td> S</td>\n",
        "      <td> NaN</td>\n",
        "      <td> 135</td>\n",
        "      <td> Montreal, PQ / Chesterville, ON</td>\n",
        "    </tr>\n",
        "    <tr>\n",
        "      <th>4</th>\n",
        "      <td> 1</td>\n",
        "      <td> 0</td>\n",
        "      <td> Allison, Mrs. Hudson J C (Bessie Waldo Daniels)</td>\n",
        "      <td> female</td>\n",
        "      <td> 25.00</td>\n",
        "      <td> 1</td>\n",
        "      <td> 2</td>\n",
        "      <td> 113781</td>\n",
        "      <td> 151.5500</td>\n",
        "      <td> C22 C26</td>\n",
        "      <td> S</td>\n",
        "      <td> NaN</td>\n",
        "      <td> NaN</td>\n",
        "      <td> Montreal, PQ / Chesterville, ON</td>\n",
        "    </tr>\n",
        "  </tbody>\n",
        "</table>\n",
        "</div>"
       ],
       "metadata": {},
       "output_type": "pyout",
       "prompt_number": 4,
       "text": [
        "   pclass  survived                                             name     sex  \\\n",
        "0       1         1                    Allen, Miss. Elisabeth Walton  female   \n",
        "1       1         1                   Allison, Master. Hudson Trevor    male   \n",
        "2       1         0                     Allison, Miss. Helen Loraine  female   \n",
        "3       1         0             Allison, Mr. Hudson Joshua Creighton    male   \n",
        "4       1         0  Allison, Mrs. Hudson J C (Bessie Waldo Daniels)  female   \n",
        "\n",
        "     age  sibsp  parch  ticket      fare    cabin embarked boat  body  \\\n",
        "0  29.00      0      0   24160  211.3375       B5        S    2   NaN   \n",
        "1   0.92      1      2  113781  151.5500  C22 C26        S   11   NaN   \n",
        "2   2.00      1      2  113781  151.5500  C22 C26        S  NaN   NaN   \n",
        "3  30.00      1      2  113781  151.5500  C22 C26        S  NaN   135   \n",
        "4  25.00      1      2  113781  151.5500  C22 C26        S  NaN   NaN   \n",
        "\n",
        "                         home.dest  \n",
        "0                     St Louis, MO  \n",
        "1  Montreal, PQ / Chesterville, ON  \n",
        "2  Montreal, PQ / Chesterville, ON  \n",
        "3  Montreal, PQ / Chesterville, ON  \n",
        "4  Montreal, PQ / Chesterville, ON  "
       ]
      }
     ],
     "prompt_number": 4
    },
    {
     "cell_type": "markdown",
     "metadata": {},
     "source": [
      "Below is an explaination of the different variables:\n",
      "\n",
      "<TABLE BORDER>\n",
      "<tr><td>Name</td><td>Labels</td><td>Units</td><td>Levels</td><td>Storage</td><td>NAs</td></tr>\n",
      "<tr><td>pclass</td><td>1st, 2nd or 3rd</td><td></td><td><a href=\"#pclass\"><div align=right>  3</div></a></td><td>integer</td><td><div align=right>   0</div></td></tr>\n",
      "<tr><td>survived</td><td>Survived</td><td>1 (yes) or 0 (no)</td><td><div align=right></div></td><td>double</td><td><div align=right>   0</div></td></tr>\n",
      "<tr><td>name</td><td>Name</td><td></td><td><div align=right></div></td><td>character</td><td><div align=right>   0</div></td></tr>\n",
      "<tr><td>sex</td><td></td><td></td><td><a href=\"#sex\"><div align=right>  2</div></a></td><td>integer</td><td><div align=right>   0</div></td></tr>\n",
      "<tr><td>age</td><td>Age</td><td>Years</td><td><div align=right></div></td><td>double</td><td><div align=right> 263</div></td></tr>\n",
      "<tr><td>sibsp</td><td>Number of Siblings/Spouses Aboard</td><td></td><td><div align=right></div></td><td>double</td><td><div align=right>   0</div></td></tr>\n",
      "<tr><td>parch</td><td>Number of Parents/Children Aboard</td><td></td><td><div align=right></div></td><td>double</td><td><div align=right>   0</div></td></tr>\n",
      "<tr><td>ticket</td><td>Ticket Number</td><td></td><td><div align=right></div></td><td>character</td><td><div align=right>   0</div></td></tr>\n",
      "<tr><td>fare</td><td>Passenger Fare</td><td>British Pound (\\243)</td><td><div align=right></div></td><td>double</td><td><div align=right>   1</div></td></tr>\n",
      "<tr><td>cabin</td><td></td><td></td><td><a href=\"#cabin\"><div align=right>187</div></a></td><td>integer</td><td><div align=right>   0</div></td></tr>\n",
      "<tr><td>embarked</td><td></td><td></td><td><a href=\"#embarked\"><div align=right>  3</div></a></td><td>integer</td><td><div align=right>   2</div></td></tr>\n",
      "<tr><td>boat</td><td></td><td></td><td><a href=\"#boat\"><div align=right> 28</div></a></td><td>integer</td><td><div align=right>   0</div></td></tr>\n",
      "<tr><td>body</td><td>Body Identification Number</td><td></td><td><div align=right></div></td><td>double</td><td><div align=right>1188</div></td></tr>\n",
      "<tr><td>home.dest</td><td>Home/Destination</td><td></td><td><div align=right></div></td><td>character</td><td><div align=right>   0</div></td></tr>\n",
      "</TABLE>"
     ]
    },
    {
     "cell_type": "markdown",
     "metadata": {},
     "source": [
      "Let's [plot](http://pandas.pydata.org/pandas-docs/stable/visualization.html) age against survival as a bar graph."
     ]
    },
    {
     "cell_type": "code",
     "collapsed": false,
     "input": [
      "%matplotlib inline\n",
      "import matplotlib as plt"
     ],
     "language": "python",
     "metadata": {},
     "outputs": [],
     "prompt_number": 5
    },
    {
     "cell_type": "code",
     "collapsed": false,
     "input": [
      "titanic.plot(x='age', y='survived', kind='bar')"
     ],
     "language": "python",
     "metadata": {},
     "outputs": [
      {
       "metadata": {},
       "output_type": "pyout",
       "prompt_number": 11,
       "text": [
        "<matplotlib.axes._subplots.AxesSubplot at 0x7f40b6f28ad0>"
       ]
      },
      {
       "metadata": {},
       "output_type": "display_data",
       "png": "[encoded data removed]",
       "text": [
        "<matplotlib.figure.Figure at 0x7f40b6f11810>"
       ]
      }
     ],
     "prompt_number": 11
    },
    {
     "cell_type": "markdown",
     "metadata": {},
     "source": [
      "Ah, that's clearly not what I meant. What we really want is the proportion of people from each age group who survived.\n",
      "So the y-axis should be the [sum]() of the survived values [grouped by](http://pandas.pydata.org/pandas-docs/stable/generated/pandas.DataFrame.groupby.html) age and then divided by the count (the number of passengers of that age). "
     ]
    },
    {
     "cell_type": "code",
     "collapsed": false,
     "input": [
      "agegroup = titanic.groupby(['age'])\n",
      "survival = agegroup['survived'].sum()/agegroup['survived'].count()\n",
      "survival"
     ],
     "language": "python",
     "metadata": {},
     "outputs": [
      {
       "metadata": {},
       "output_type": "pyout",
       "prompt_number": 19,
       "text": [
        "age\n",
        "0.17    1.000000\n",
        "0.33    0.000000\n",
        "0.42    1.000000\n",
        "0.67    1.000000\n",
        "0.75    0.666667\n",
        "0.83    1.000000\n",
        "0.92    1.000000\n",
        "1.00    0.700000\n",
        "2.00    0.333333\n",
        "3.00    0.714286\n",
        "4.00    0.700000\n",
        "5.00    0.800000\n",
        "6.00    0.500000\n",
        "7.00    0.500000\n",
        "8.00    0.666667\n",
        "...\n",
        "60.0    0.571429\n",
        "60.5    0.000000\n",
        "61.0    0.000000\n",
        "62.0    0.400000\n",
        "63.0    0.500000\n",
        "64.0    0.400000\n",
        "65.0    0.000000\n",
        "66.0    0.000000\n",
        "67.0    0.000000\n",
        "70.0    0.000000\n",
        "70.5    0.000000\n",
        "71.0    0.000000\n",
        "74.0    0.000000\n",
        "76.0    1.000000\n",
        "80.0    1.000000\n",
        "Name: survived, Length: 98, dtype: float64"
       ]
      }
     ],
     "prompt_number": 19
    },
    {
     "cell_type": "markdown",
     "metadata": {},
     "source": [
      "That looks more useful. Let's plot those values"
     ]
    },
    {
     "cell_type": "code",
     "collapsed": false,
     "input": [
      "survival.plot(kind='bar')"
     ],
     "language": "python",
     "metadata": {},
     "outputs": [
      {
       "metadata": {},
       "output_type": "pyout",
       "prompt_number": 20,
       "text": [
        "<matplotlib.axes._subplots.AxesSubplot at 0x7f40b70b2790>"
       ]
      },
      {
       "metadata": {},
       "output_type": "display_data",
       "png": "[encoded data removed]",
       "text": [
        "<matplotlib.figure.Figure at 0x7f40b9540390>"
       ]
      }
     ],
     "prompt_number": 20
    },
    {
     "cell_type": "markdown",
     "metadata": {},
     "source": [
      "It's a bit crowded! Let's make a histogram - so group people together in 5 year groups (0-5, 6-10 etc.). In the documentation for the [dataframe.hist()]((http://pandas.pydata.org/pandas-docs/stable/generated/pandas.DataFrame.hist.html?highlight=hist#pandas.DataFrame.hist)) function look at the keywords 'by' and 'column'. If we use by as 'age' and column as 'survived' what happens."
     ]
    },
    {
     "cell_type": "code",
     "collapsed": false,
     "input": [
      "titanic.hist(column='survived', by='age')"
     ],
     "language": "python",
     "metadata": {},
     "outputs": [
      {
       "ename": "ValueError",
       "evalue": "x has only one data point. bins or range kwarg must be given",
       "output_type": "pyerr",
       "traceback": [
        "\u001b[1;31m---------------------------------------------------------------------------\u001b[0m\n\u001b[1;31mValueError\u001b[0m                                Traceback (most recent call last)",
        "\u001b[1;32m<ipython-input-28-79cd7191d317>\u001b[0m in \u001b[0;36m<module>\u001b[1;34m()\u001b[0m\n\u001b[1;32m----> 1\u001b[1;33m \u001b[0mtitanic\u001b[0m\u001b[1;33m.\u001b[0m\u001b[0mhist\u001b[0m\u001b[1;33m(\u001b[0m\u001b[0mcolumn\u001b[0m\u001b[1;33m=\u001b[0m\u001b[1;34m'survived'\u001b[0m\u001b[1;33m,\u001b[0m \u001b[0mby\u001b[0m\u001b[1;33m=\u001b[0m\u001b[1;34m'age'\u001b[0m\u001b[1;33m)\u001b[0m\u001b[1;33m\u001b[0m\u001b[0m\n\u001b[0m",
        "\u001b[1;32m/home/slittle/working/data_analysis/venv/local/lib/python2.7/site-packages/pandas/tools/plotting.pyc\u001b[0m in \u001b[0;36mhist_frame\u001b[1;34m(data, column, by, grid, xlabelsize, xrot, ylabelsize, yrot, ax, sharex, sharey, figsize, layout, bins, **kwds)\u001b[0m\n\u001b[0;32m   2492\u001b[0m                             \u001b[0msharex\u001b[0m\u001b[1;33m=\u001b[0m\u001b[0msharex\u001b[0m\u001b[1;33m,\u001b[0m \u001b[0msharey\u001b[0m\u001b[1;33m=\u001b[0m\u001b[0msharey\u001b[0m\u001b[1;33m,\u001b[0m \u001b[0mlayout\u001b[0m\u001b[1;33m=\u001b[0m\u001b[0mlayout\u001b[0m\u001b[1;33m,\u001b[0m \u001b[0mbins\u001b[0m\u001b[1;33m=\u001b[0m\u001b[0mbins\u001b[0m\u001b[1;33m,\u001b[0m\u001b[1;33m\u001b[0m\u001b[0m\n\u001b[0;32m   2493\u001b[0m                             \u001b[0mxlabelsize\u001b[0m\u001b[1;33m=\u001b[0m\u001b[0mxlabelsize\u001b[0m\u001b[1;33m,\u001b[0m \u001b[0mxrot\u001b[0m\u001b[1;33m=\u001b[0m\u001b[0mxrot\u001b[0m\u001b[1;33m,\u001b[0m \u001b[0mylabelsize\u001b[0m\u001b[1;33m=\u001b[0m\u001b[0mylabelsize\u001b[0m\u001b[1;33m,\u001b[0m \u001b[0myrot\u001b[0m\u001b[1;33m=\u001b[0m\u001b[0myrot\u001b[0m\u001b[1;33m,\u001b[0m\u001b[1;33m\u001b[0m\u001b[0m\n\u001b[1;32m-> 2494\u001b[1;33m                             **kwds)\n\u001b[0m\u001b[0;32m   2495\u001b[0m         \u001b[1;32mreturn\u001b[0m \u001b[0maxes\u001b[0m\u001b[1;33m\u001b[0m\u001b[0m\n\u001b[0;32m   2496\u001b[0m \u001b[1;33m\u001b[0m\u001b[0m\n",
        "\u001b[1;32m/home/slittle/working/data_analysis/venv/local/lib/python2.7/site-packages/pandas/tools/plotting.pyc\u001b[0m in \u001b[0;36mgrouped_hist\u001b[1;34m(data, column, by, ax, bins, figsize, layout, sharex, sharey, rot, grid, xlabelsize, xrot, ylabelsize, yrot, **kwargs)\u001b[0m\n\u001b[0;32m   2624\u001b[0m     fig, axes = _grouped_plot(plot_group, data, column=column,\n\u001b[0;32m   2625\u001b[0m                               \u001b[0mby\u001b[0m\u001b[1;33m=\u001b[0m\u001b[0mby\u001b[0m\u001b[1;33m,\u001b[0m \u001b[0msharex\u001b[0m\u001b[1;33m=\u001b[0m\u001b[0msharex\u001b[0m\u001b[1;33m,\u001b[0m \u001b[0msharey\u001b[0m\u001b[1;33m=\u001b[0m\u001b[0msharey\u001b[0m\u001b[1;33m,\u001b[0m\u001b[1;33m\u001b[0m\u001b[0m\n\u001b[1;32m-> 2626\u001b[1;33m                               figsize=figsize, layout=layout, rot=rot)\n\u001b[0m\u001b[0;32m   2627\u001b[0m \u001b[1;33m\u001b[0m\u001b[0m\n\u001b[0;32m   2628\u001b[0m     _set_ticks_props(axes, xlabelsize=xlabelsize, xrot=xrot,\n",
        "\u001b[1;32m/home/slittle/working/data_analysis/venv/local/lib/python2.7/site-packages/pandas/tools/plotting.pyc\u001b[0m in \u001b[0;36m_grouped_plot\u001b[1;34m(plotf, data, column, by, numeric_only, figsize, sharex, sharey, layout, rot, ax, **kwargs)\u001b[0m\n\u001b[0;32m   2734\u001b[0m         \u001b[1;32mif\u001b[0m \u001b[0mnumeric_only\u001b[0m \u001b[1;32mand\u001b[0m \u001b[0misinstance\u001b[0m\u001b[1;33m(\u001b[0m\u001b[0mgroup\u001b[0m\u001b[1;33m,\u001b[0m \u001b[0mDataFrame\u001b[0m\u001b[1;33m)\u001b[0m\u001b[1;33m:\u001b[0m\u001b[1;33m\u001b[0m\u001b[0m\n\u001b[0;32m   2735\u001b[0m             \u001b[0mgroup\u001b[0m \u001b[1;33m=\u001b[0m \u001b[0mgroup\u001b[0m\u001b[1;33m.\u001b[0m\u001b[0m_get_numeric_data\u001b[0m\u001b[1;33m(\u001b[0m\u001b[1;33m)\u001b[0m\u001b[1;33m\u001b[0m\u001b[0m\n\u001b[1;32m-> 2736\u001b[1;33m         \u001b[0mplotf\u001b[0m\u001b[1;33m(\u001b[0m\u001b[0mgroup\u001b[0m\u001b[1;33m,\u001b[0m \u001b[0max\u001b[0m\u001b[1;33m,\u001b[0m \u001b[1;33m**\u001b[0m\u001b[0mkwargs\u001b[0m\u001b[1;33m)\u001b[0m\u001b[1;33m\u001b[0m\u001b[0m\n\u001b[0m\u001b[0;32m   2737\u001b[0m         \u001b[0max\u001b[0m\u001b[1;33m.\u001b[0m\u001b[0mset_title\u001b[0m\u001b[1;33m(\u001b[0m\u001b[0mcom\u001b[0m\u001b[1;33m.\u001b[0m\u001b[0mpprint_thing\u001b[0m\u001b[1;33m(\u001b[0m\u001b[0mkey\u001b[0m\u001b[1;33m)\u001b[0m\u001b[1;33m)\u001b[0m\u001b[1;33m\u001b[0m\u001b[0m\n\u001b[0;32m   2738\u001b[0m \u001b[1;33m\u001b[0m\u001b[0m\n",
        "\u001b[1;32m/home/slittle/working/data_analysis/venv/local/lib/python2.7/site-packages/pandas/tools/plotting.pyc\u001b[0m in \u001b[0;36mplot_group\u001b[1;34m(group, ax)\u001b[0m\n\u001b[0;32m   2618\u001b[0m     \"\"\"\n\u001b[0;32m   2619\u001b[0m     \u001b[1;32mdef\u001b[0m \u001b[0mplot_group\u001b[0m\u001b[1;33m(\u001b[0m\u001b[0mgroup\u001b[0m\u001b[1;33m,\u001b[0m \u001b[0max\u001b[0m\u001b[1;33m)\u001b[0m\u001b[1;33m:\u001b[0m\u001b[1;33m\u001b[0m\u001b[0m\n\u001b[1;32m-> 2620\u001b[1;33m         \u001b[0max\u001b[0m\u001b[1;33m.\u001b[0m\u001b[0mhist\u001b[0m\u001b[1;33m(\u001b[0m\u001b[0mgroup\u001b[0m\u001b[1;33m.\u001b[0m\u001b[0mdropna\u001b[0m\u001b[1;33m(\u001b[0m\u001b[1;33m)\u001b[0m\u001b[1;33m.\u001b[0m\u001b[0mvalues\u001b[0m\u001b[1;33m,\u001b[0m \u001b[0mbins\u001b[0m\u001b[1;33m=\u001b[0m\u001b[0mbins\u001b[0m\u001b[1;33m,\u001b[0m \u001b[1;33m**\u001b[0m\u001b[0mkwargs\u001b[0m\u001b[1;33m)\u001b[0m\u001b[1;33m\u001b[0m\u001b[0m\n\u001b[0m\u001b[0;32m   2621\u001b[0m \u001b[1;33m\u001b[0m\u001b[0m\n\u001b[0;32m   2622\u001b[0m     \u001b[0mxrot\u001b[0m \u001b[1;33m=\u001b[0m \u001b[0mxrot\u001b[0m \u001b[1;32mor\u001b[0m \u001b[0mrot\u001b[0m\u001b[1;33m\u001b[0m\u001b[0m\n",
        "\u001b[1;32m/home/slittle/working/data_analysis/venv/local/lib/python2.7/site-packages/matplotlib/axes/_axes.pyc\u001b[0m in \u001b[0;36mhist\u001b[1;34m(self, x, bins, range, normed, weights, cumulative, bottom, histtype, align, orientation, rwidth, log, color, label, stacked, **kwargs)\u001b[0m\n\u001b[0;32m   5556\u001b[0m         \u001b[1;32melif\u001b[0m \u001b[0mlen\u001b[0m\u001b[1;33m(\u001b[0m\u001b[0mflat\u001b[0m\u001b[1;33m)\u001b[0m \u001b[1;33m==\u001b[0m \u001b[1;36m1\u001b[0m \u001b[1;32mand\u001b[0m \u001b[1;32mnot\u001b[0m \u001b[0mbinsgiven\u001b[0m\u001b[1;33m:\u001b[0m\u001b[1;33m\u001b[0m\u001b[0m\n\u001b[0;32m   5557\u001b[0m             raise ValueError(\n\u001b[1;32m-> 5558\u001b[1;33m                 \"x has only one data point. bins or range kwarg must be given\")\n\u001b[0m\u001b[0;32m   5559\u001b[0m \u001b[1;33m\u001b[0m\u001b[0m\n\u001b[0;32m   5560\u001b[0m         \u001b[1;31m# Massage 'x' for processing.\u001b[0m\u001b[1;33m\u001b[0m\u001b[1;33m\u001b[0m\u001b[0m\n",
        "\u001b[1;31mValueError\u001b[0m: x has only one data point. bins or range kwarg must be given"
       ]
      },
      {
       "metadata": {},
       "output_type": "display_data",
       "png": "[encoded data removed]",
       "text": [
        "<matplotlib.figure.Figure at 0x7f40b26c1cd0>"
       ]
      }
     ],
     "prompt_number": 28
    },
    {
     "cell_type": "markdown",
     "metadata": {},
     "source": [
      "Ok, not very good (expand the output to see what happened). This is because we still want to use the proportion of survivors rather than the 0 and 1 values from survived. Let's see what [pivot_table](http://pandas.pydata.org/pandas-docs/stable/generated/pandas.DataFrame.pivot_table.html) can do for us."
     ]
    },
    {
     "cell_type": "code",
     "collapsed": false,
     "input": [
      "titanic.hist(column='age')"
     ],
     "language": "python",
     "metadata": {},
     "outputs": [
      {
       "metadata": {},
       "output_type": "pyout",
       "prompt_number": 43,
       "text": [
        "array([[<matplotlib.axes._subplots.AxesSubplot object at 0x7f40b176cd50>]], dtype=object)"
       ]
      },
      {
       "metadata": {},
       "output_type": "display_data",
       "png": "[encoded data removed]",
       "text": [
        "<matplotlib.figure.Figure at 0x7f40b15ff710>"
       ]
      }
     ],
     "prompt_number": 43
    },
    {
     "cell_type": "code",
     "collapsed": false,
     "input": [
      "table = pd.pivot_table(titanic, values='survived', index='age') # note default aggfunc is mean - which in this case is the prop!\n",
      "table"
     ],
     "language": "python",
     "metadata": {},
     "outputs": [
      {
       "metadata": {},
       "output_type": "pyout",
       "prompt_number": 37,
       "text": [
        "age\n",
        "0.17    1.000000\n",
        "0.33    0.000000\n",
        "0.42    1.000000\n",
        "0.67    1.000000\n",
        "0.75    0.666667\n",
        "0.83    1.000000\n",
        "0.92    1.000000\n",
        "1.00    0.700000\n",
        "2.00    0.333333\n",
        "3.00    0.714286\n",
        "4.00    0.700000\n",
        "5.00    0.800000\n",
        "6.00    0.500000\n",
        "7.00    0.500000\n",
        "8.00    0.666667\n",
        "...\n",
        "60.0    0.571429\n",
        "60.5    0.000000\n",
        "61.0    0.000000\n",
        "62.0    0.400000\n",
        "63.0    0.500000\n",
        "64.0    0.400000\n",
        "65.0    0.000000\n",
        "66.0    0.000000\n",
        "67.0    0.000000\n",
        "70.0    0.000000\n",
        "70.5    0.000000\n",
        "71.0    0.000000\n",
        "74.0    0.000000\n",
        "76.0    1.000000\n",
        "80.0    1.000000\n",
        "Name: survived, Length: 98, dtype: float64"
       ]
      }
     ],
     "prompt_number": 37
    },
    {
     "cell_type": "code",
     "collapsed": false,
     "input": [
      "titanic.groupby('age').survived.sum().plot(kind='bar')"
     ],
     "language": "python",
     "metadata": {},
     "outputs": [
      {
       "metadata": {},
       "output_type": "pyout",
       "prompt_number": 45,
       "text": [
        "<matplotlib.axes._subplots.AxesSubplot at 0x7f40b0bce490>"
       ]
      },
      {
       "metadata": {},
       "output_type": "display_data",
       "png": "[encoded data removed]",
       "text": [
        "<matplotlib.figure.Figure at 0x7f40b0af4310>"
       ]
      }
     ],
     "prompt_number": 45
    },
    {
     "cell_type": "code",
     "collapsed": false,
     "input": [
      "titanic.groupby('pclass').survived.sum().plot(kind='bar')"
     ],
     "language": "python",
     "metadata": {},
     "outputs": [
      {
       "metadata": {},
       "output_type": "pyout",
       "prompt_number": 48,
       "text": [
        "<matplotlib.axes._subplots.AxesSubplot at 0x7f40afcf6410>"
       ]
      },
      {
       "metadata": {},
       "output_type": "display_data",
       "png": "[encoded data removed]",
       "text": [
        "<matplotlib.figure.Figure at 0x7f40b0fb8b50>"
       ]
      }
     ],
     "prompt_number": 48
    },
    {
     "cell_type": "code",
     "collapsed": false,
     "input": [
      "death_counts = pd.crosstab([titanic.pclass, titanic.sex], titanic.survived.astype(bool))\n",
      "death_counts.plot(kind='bar', stacked=True, color=['black','gold'], grid=False)"
     ],
     "language": "python",
     "metadata": {},
     "outputs": [
      {
       "metadata": {},
       "output_type": "pyout",
       "prompt_number": 49,
       "text": [
        "<matplotlib.axes._subplots.AxesSubplot at 0x7f40b00b9b90>"
       ]
      },
      {
       "metadata": {},
       "output_type": "display_data",
       "png": "[encoded data removed]",
       "text": [
        "<matplotlib.figure.Figure at 0x7f40b008f990>"
       ]
      }
     ],
     "prompt_number": 49
    },
    {
     "cell_type": "code",
     "collapsed": false,
     "input": [
      "titanic.describe()"
     ],
     "language": "python",
     "metadata": {},
     "outputs": [
      {
       "html": [
        "<div style=\"max-height:1000px;max-width:1500px;overflow:auto;\">\n",
        "<table border=\"1\" class=\"dataframe\">\n",
        "  <thead>\n",
        "    <tr style=\"text-align: right;\">\n",
        "      <th></th>\n",
        "      <th>pclass</th>\n",
        "      <th>survived</th>\n",
        "      <th>age</th>\n",
        "      <th>sibsp</th>\n",
        "      <th>parch</th>\n",
        "      <th>fare</th>\n",
        "      <th>body</th>\n",
        "    </tr>\n",
        "  </thead>\n",
        "  <tbody>\n",
        "    <tr>\n",
        "      <th>count</th>\n",
        "      <td> 1309.000000</td>\n",
        "      <td> 1309.000000</td>\n",
        "      <td> 1046.000000</td>\n",
        "      <td> 1309.000000</td>\n",
        "      <td> 1309.000000</td>\n",
        "      <td> 1308.000000</td>\n",
        "      <td> 121.000000</td>\n",
        "    </tr>\n",
        "    <tr>\n",
        "      <th>mean</th>\n",
        "      <td>    2.294882</td>\n",
        "      <td>    0.381971</td>\n",
        "      <td>   29.881138</td>\n",
        "      <td>    0.498854</td>\n",
        "      <td>    0.385027</td>\n",
        "      <td>   33.295479</td>\n",
        "      <td> 160.809917</td>\n",
        "    </tr>\n",
        "    <tr>\n",
        "      <th>std</th>\n",
        "      <td>    0.837836</td>\n",
        "      <td>    0.486055</td>\n",
        "      <td>   14.413493</td>\n",
        "      <td>    1.041658</td>\n",
        "      <td>    0.865560</td>\n",
        "      <td>   51.758668</td>\n",
        "      <td>  97.696922</td>\n",
        "    </tr>\n",
        "    <tr>\n",
        "      <th>min</th>\n",
        "      <td>    1.000000</td>\n",
        "      <td>    0.000000</td>\n",
        "      <td>    0.170000</td>\n",
        "      <td>    0.000000</td>\n",
        "      <td>    0.000000</td>\n",
        "      <td>    0.000000</td>\n",
        "      <td>   1.000000</td>\n",
        "    </tr>\n",
        "    <tr>\n",
        "      <th>25%</th>\n",
        "      <td>    2.000000</td>\n",
        "      <td>    0.000000</td>\n",
        "      <td>   21.000000</td>\n",
        "      <td>    0.000000</td>\n",
        "      <td>    0.000000</td>\n",
        "      <td>    7.895800</td>\n",
        "      <td>  72.000000</td>\n",
        "    </tr>\n",
        "    <tr>\n",
        "      <th>50%</th>\n",
        "      <td>    3.000000</td>\n",
        "      <td>    0.000000</td>\n",
        "      <td>   28.000000</td>\n",
        "      <td>    0.000000</td>\n",
        "      <td>    0.000000</td>\n",
        "      <td>   14.454200</td>\n",
        "      <td> 155.000000</td>\n",
        "    </tr>\n",
        "    <tr>\n",
        "      <th>75%</th>\n",
        "      <td>    3.000000</td>\n",
        "      <td>    1.000000</td>\n",
        "      <td>   39.000000</td>\n",
        "      <td>    1.000000</td>\n",
        "      <td>    0.000000</td>\n",
        "      <td>   31.275000</td>\n",
        "      <td> 256.000000</td>\n",
        "    </tr>\n",
        "    <tr>\n",
        "      <th>max</th>\n",
        "      <td>    3.000000</td>\n",
        "      <td>    1.000000</td>\n",
        "      <td>   80.000000</td>\n",
        "      <td>    8.000000</td>\n",
        "      <td>    9.000000</td>\n",
        "      <td>  512.329200</td>\n",
        "      <td> 328.000000</td>\n",
        "    </tr>\n",
        "  </tbody>\n",
        "</table>\n",
        "</div>"
       ],
       "metadata": {},
       "output_type": "pyout",
       "prompt_number": 50,
       "text": [
        "            pclass     survived          age        sibsp        parch  \\\n",
        "count  1309.000000  1309.000000  1046.000000  1309.000000  1309.000000   \n",
        "mean      2.294882     0.381971    29.881138     0.498854     0.385027   \n",
        "std       0.837836     0.486055    14.413493     1.041658     0.865560   \n",
        "min       1.000000     0.000000     0.170000     0.000000     0.000000   \n",
        "25%       2.000000     0.000000    21.000000     0.000000     0.000000   \n",
        "50%       3.000000     0.000000    28.000000     0.000000     0.000000   \n",
        "75%       3.000000     1.000000    39.000000     1.000000     0.000000   \n",
        "max       3.000000     1.000000    80.000000     8.000000     9.000000   \n",
        "\n",
        "              fare        body  \n",
        "count  1308.000000  121.000000  \n",
        "mean     33.295479  160.809917  \n",
        "std      51.758668   97.696922  \n",
        "min       0.000000    1.000000  \n",
        "25%       7.895800   72.000000  \n",
        "50%      14.454200  155.000000  \n",
        "75%      31.275000  256.000000  \n",
        "max     512.329200  328.000000  "
       ]
      }
     ],
     "prompt_number": 50
    },
    {
     "cell_type": "code",
     "collapsed": false,
     "input": [
      "death_counts"
     ],
     "language": "python",
     "metadata": {},
     "outputs": [
      {
       "html": [
        "<div style=\"max-height:1000px;max-width:1500px;overflow:auto;\">\n",
        "<table border=\"1\" class=\"dataframe\">\n",
        "  <thead>\n",
        "    <tr style=\"text-align: right;\">\n",
        "      <th></th>\n",
        "      <th>survived</th>\n",
        "      <th>False</th>\n",
        "      <th>True</th>\n",
        "    </tr>\n",
        "    <tr>\n",
        "      <th>pclass</th>\n",
        "      <th>sex</th>\n",
        "      <th></th>\n",
        "      <th></th>\n",
        "    </tr>\n",
        "  </thead>\n",
        "  <tbody>\n",
        "    <tr>\n",
        "      <th rowspan=\"2\" valign=\"top\">1</th>\n",
        "      <th>female</th>\n",
        "      <td>   5</td>\n",
        "      <td> 139</td>\n",
        "    </tr>\n",
        "    <tr>\n",
        "      <th>male</th>\n",
        "      <td> 118</td>\n",
        "      <td>  61</td>\n",
        "    </tr>\n",
        "    <tr>\n",
        "      <th rowspan=\"2\" valign=\"top\">2</th>\n",
        "      <th>female</th>\n",
        "      <td>  12</td>\n",
        "      <td>  94</td>\n",
        "    </tr>\n",
        "    <tr>\n",
        "      <th>male</th>\n",
        "      <td> 146</td>\n",
        "      <td>  25</td>\n",
        "    </tr>\n",
        "    <tr>\n",
        "      <th rowspan=\"2\" valign=\"top\">3</th>\n",
        "      <th>female</th>\n",
        "      <td> 110</td>\n",
        "      <td> 106</td>\n",
        "    </tr>\n",
        "    <tr>\n",
        "      <th>male</th>\n",
        "      <td> 418</td>\n",
        "      <td>  75</td>\n",
        "    </tr>\n",
        "  </tbody>\n",
        "</table>\n",
        "</div>"
       ],
       "metadata": {},
       "output_type": "pyout",
       "prompt_number": 51,
       "text": [
        "survived       False  True \n",
        "pclass sex                 \n",
        "1      female      5    139\n",
        "       male      118     61\n",
        "2      female     12     94\n",
        "       male      146     25\n",
        "3      female    110    106\n",
        "       male      418     75"
       ]
      }
     ],
     "prompt_number": 51
    },
    {
     "cell_type": "code",
     "collapsed": false,
     "input": [
      "death_counts.div(death_counts.sum(1).astype(float), axis=0).plot(kind='bar', stacked=True, color=['black','gold'])"
     ],
     "language": "python",
     "metadata": {},
     "outputs": [
      {
       "metadata": {},
       "output_type": "pyout",
       "prompt_number": 52,
       "text": [
        "<matplotlib.axes._subplots.AxesSubplot at 0x7f40b0c7d590>"
       ]
      },
      {
       "metadata": {},
       "output_type": "display_data",
       "png": "[encoded data removed]",
       "text": [
        "<matplotlib.figure.Figure at 0x7f40b0c691d0>"
       ]
      }
     ],
     "prompt_number": 52
    },
    {
     "cell_type": "code",
     "collapsed": false,
     "input": [
      "grouped = titanic['survived'].groupby(titanic['sex'])"
     ],
     "language": "python",
     "metadata": {},
     "outputs": [],
     "prompt_number": 53
    },
    {
     "cell_type": "code",
     "collapsed": false,
     "input": [
      "grouped.mean()"
     ],
     "language": "python",
     "metadata": {},
     "outputs": [
      {
       "metadata": {},
       "output_type": "pyout",
       "prompt_number": 54,
       "text": [
        "sex\n",
        "female    0.727468\n",
        "male      0.190985\n",
        "Name: survived, dtype: float64"
       ]
      }
     ],
     "prompt_number": 54
    },
    {
     "cell_type": "code",
     "collapsed": false,
     "input": [
      "grouped = titanic['survived'].groupby(titanic['age'])"
     ],
     "language": "python",
     "metadata": {},
     "outputs": [],
     "prompt_number": 55
    },
    {
     "cell_type": "code",
     "collapsed": false,
     "input": [
      "grouped.mean()"
     ],
     "language": "python",
     "metadata": {},
     "outputs": [
      {
       "metadata": {},
       "output_type": "pyout",
       "prompt_number": 56,
       "text": [
        "age\n",
        "0.17    1.000000\n",
        "0.33    0.000000\n",
        "0.42    1.000000\n",
        "0.67    1.000000\n",
        "0.75    0.666667\n",
        "0.83    1.000000\n",
        "0.92    1.000000\n",
        "1.00    0.700000\n",
        "2.00    0.333333\n",
        "3.00    0.714286\n",
        "4.00    0.700000\n",
        "5.00    0.800000\n",
        "6.00    0.500000\n",
        "7.00    0.500000\n",
        "8.00    0.666667\n",
        "...\n",
        "60.0    0.571429\n",
        "60.5    0.000000\n",
        "61.0    0.000000\n",
        "62.0    0.400000\n",
        "63.0    0.500000\n",
        "64.0    0.400000\n",
        "65.0    0.000000\n",
        "66.0    0.000000\n",
        "67.0    0.000000\n",
        "70.0    0.000000\n",
        "70.5    0.000000\n",
        "71.0    0.000000\n",
        "74.0    0.000000\n",
        "76.0    1.000000\n",
        "80.0    1.000000\n",
        "Name: survived, Length: 98, dtype: float64"
       ]
      }
     ],
     "prompt_number": 56
    },
    {
     "cell_type": "code",
     "collapsed": false,
     "input": [
      "age_survival = grouped.sum()\n",
      "age_survival.plot()"
     ],
     "language": "python",
     "metadata": {},
     "outputs": [
      {
       "metadata": {},
       "output_type": "pyout",
       "prompt_number": 61,
       "text": [
        "<matplotlib.axes._subplots.AxesSubplot at 0x7f40b04b86d0>"
       ]
      },
      {
       "metadata": {},
       "output_type": "display_data",
       "png": "[encoded data removed]",
       "text": [
        "<matplotlib.figure.Figure at 0x7f40b0ef8610>"
       ]
      }
     ],
     "prompt_number": 61
    },
    {
     "cell_type": "code",
     "collapsed": false,
     "input": [],
     "language": "python",
     "metadata": {},
     "outputs": []
    }
   ],
   "metadata": {}
  }
 ]
}